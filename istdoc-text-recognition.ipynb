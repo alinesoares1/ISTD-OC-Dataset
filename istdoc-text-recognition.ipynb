{
  "nbformat": 4,
  "nbformat_minor": 0,
  "metadata": {
    "colab": {
      "name": "base-text recognition",
      "provenance": []
    },
    "kernelspec": {
      "display_name": "Python 3",
      "name": "python3"
    }
  },
  "cells": [
    {
      "cell_type": "markdown",
      "metadata": {
        "id": "_DaXzRiBAuPL"
      },
      "source": [
        "# How Far Deep Learning Systems for Text Detection and Recognition in Natural Scenes are Affected by Occlusion?\n",
        "\n",
        "### This is a step-by-step guide to generate the ISTD-OC dataset. "
      ]
    },
    {
      "cell_type": "code",
      "metadata": {
        "id": "EZHeLTDS-AvI"
      },
      "source": [
        "#Import drive\n",
        "from google.colab import drive\n",
        "drive.mount('./gdrive')\n",
        "%cd \"./gdrive/My Drive/Colab Notebooks\"\n"
      ],
      "execution_count": null,
      "outputs": []
    },
    {
      "cell_type": "code",
      "metadata": {
        "id": "9n1zGNrD-JKG"
      },
      "source": [
        "#check directory\n",
        "import os\n",
        "os.chdir(path)\n",
        "\n",
        "!ls -l"
      ],
      "execution_count": null,
      "outputs": []
    },
    {
      "cell_type": "code",
      "metadata": {
        "id": "nlsPtMJV-K5N"
      },
      "source": [
        "#generate ISTD-OC crop words for the text recognition task \n",
        "import cv2\n",
        "import random\n",
        "import numpy as np\n",
        "from random import randint, gauss, randrange\n",
        "\n",
        "\n",
        "\n",
        "def readImages(path):\n",
        "    with open(path,'r',encoding='utf-8-sig') as txt_file:\n",
        "      for line in txt_file.read().splitlines():\n",
        "        if \"word_\"+str(d)+\".png\" in line:\n",
        "          coordenadas=line.split(',')\n",
        "          print(coordenadas[1:])\n",
        "          return coordenadas[1:]\n",
        "\n",
        "def gerarCoordenadas(coordenadas):\n",
        "\n",
        "        result=[]\n",
        "        regioes=1\n",
        "        print(regioes)\n",
        "\n",
        "        for i in range (len(coordenadas)):\n",
        "\n",
        "          p1 = (int(coordenadas[0]), int(coordenadas[1]))\n",
        "          p2 = (int(coordenadas[2]), int(coordenadas[3]))\n",
        "          p3 = (int(coordenadas[4]), int(coordenadas[5]))\n",
        "          p4 = (int(coordenadas[6]), int(coordenadas[7]))\n",
        "          result.append(p1)\n",
        "          result.append(p2)\n",
        "          result.append(p3)\n",
        "          result.append(p4)\n",
        "          \n",
        "          return result, regioes, coordenadas[-1]\n",
        "    \n",
        "\n",
        "def fazLista(coordenadas):\n",
        "  auxList=[]\n",
        "  lista=[]\n",
        "  aux=0\n",
        "  for i in range (0, len(coordenadas)):\n",
        "    if aux == 4:\n",
        "      lista.append(auxList)\n",
        "      auxList=[]\n",
        "      aux = 0\n",
        "    auxList.append(coordenadas[i])\n",
        "    aux += 1\n",
        "  lista.append(auxList)\n",
        "  return lista\n",
        "\n",
        "def fazDicionario(regioes,lista):\n",
        "  dic={}\n",
        "  for i in range(0,regioes):\n",
        "    dic[str(i)]=lista[i]\n",
        "    return dic\n",
        "\n",
        "def regiaoTexto(pathImg, regiaoEscolhida):\n",
        "  img=cv2.imread(pathImg)\n",
        "  box=img[regiaoEscolhida[0][1]:regiaoEscolhida[3][1], regiaoEscolhida[0][0]:regiaoEscolhida[1][0]]\n",
        "  return box\n",
        "\n",
        "def fazOclusao(box,regiaoEscolhida):\n",
        "    #RATIO BASED ON IMAGE SIZE TO TEXT BOX SIZE\n",
        "    alfa=0.9\n",
        "    rand=random.gauss(0.6,0.05)\n",
        "\n",
        "\n",
        "    #OCCLUSION SIZE EQUALS BOX SIZE MULTIPLIED BY PROPORTION\n",
        "    largura_oclusao= int(alfa*box.shape[1]*rand+(1-alfa)*box.shape[1])\n",
        "    altura_oclusao= int(alfa*box.shape[0]*rand+(1-alfa)*box.shape[0])\n",
        "    \n",
        "    #OFFSET\n",
        "    offset_altura=box.shape[0]-altura_oclusao\n",
        "    #print(offset_altura)\n",
        "    offset_largura=box.shape[1]-largura_oclusao\n",
        "    #print(offset_largura)\n",
        "\n",
        "    #set occlusion starting point\n",
        "    max_x_inicial = offset_altura\n",
        "    max_y_inicial = offset_largura\n",
        "    ponto_inicial = [random.randint(0,max_x_inicial), random.randint(0,max_y_inicial)]\n",
        "    \n",
        "    #add noise to the cut of the image that will be occluded\n",
        "    gauss = np.random.normal(0,1,img.size)\n",
        "    gauss = gauss.reshape(img.shape[0],img.shape[1],img.shape[2]).astype('uint8') \n",
        "    noise_img = cv2.add(img,gauss)\n",
        "    #cv2_imshow(noise_img)\n",
        "   \n",
        "    #set random point original image\n",
        "    x2_final = noise_img.shape[0]\n",
        "    y2_final= noise_img.shape[1]\n",
        "    ponto_aleat_img=[random.randint(0,x2_final), random.randint(0,y2_final)]\n",
        "    \n",
        "    #print(\"proporcao_altura_imagem: \", proporcao_altura_imagem, \"proporcao_largura_imagem: \", proporcao_largura_imagem,\n",
        "     #   \"largura_oclusao: \", largura_oclusao, \"altura_oclusao: \", altura_oclusao, \n",
        "      #  \"max_x_inicial: \", max_x_inicial, \"max_y_inicial: \", max_y_inicial,\n",
        "        #\"max_x2_final: \", max_x2_final, \"max_y2_final: \", max_y2_final,\n",
        "       # \"ponto_inicial: \", ponto_inicial, #\"ponto_final: \", ponto_final, \n",
        "        #\"offset_altura: \", offset_altura,\"offset_largura: \",offset_largura, \n",
        "        #\"regiaoEscolhida:\", regiaoEscolhida, \"img.shape: \", img.shape,\n",
        "        #\"box.shape: \", box.shape)\n",
        "\n",
        "    #occlusion region \n",
        "    box[ponto_inicial[0]:ponto_inicial[0]+altura_oclusao,ponto_inicial[1]:ponto_inicial[1]+largura_oclusao,:]= noise_img[ponto_aleat_img[0]:ponto_aleat_img[0]+altura_oclusao, ponto_aleat_img[1]:ponto_aleat_img[1]+largura_oclusao]\n",
        "\n",
        "    return box\n",
        "\n",
        "for d in range(1,2078):\n",
        "  pathTxt=\"base_de_dados/ic15_recognition/coords.txt\"\n",
        "  pathImg=\"base_de_dados/ic15_recognition/word_\"+str(d)+\".png\"\n",
        "  coordenadas=readImages(pathTxt)\n",
        "  c,regioes,transcricao=gerarCoordenadas(coordenadas)\n",
        "  l=fazLista(c)\n",
        "  dic=fazDicionario(regioes,l)\n",
        "  img=cv2.imread(pathImg)\n",
        "\n",
        "  for i in range(0,regioes):\n",
        "    regiaoEscolhida=dic[str(i)]\n",
        "    regiao=regiaoTexto(pathImg,regiaoEscolhida)\n",
        "      #print(\"regiao\",regiao)\n",
        "    regiao=fazOclusao(regiao,regiaoEscolhida)\n",
        "    img[regiaoEscolhida[0][1]:regiaoEscolhida[3][1],regiaoEscolhida[0][0]:regiaoEscolhida[1][0]]=regiao\n",
        "\n",
        "  pathsave=\"PSENet/noise_base/recognition/60/img_\"+str(d)+\".jpg\"\n",
        "  cv2.imwrite(pathsave,img)\n"
      ],
      "execution_count": null,
      "outputs": []
    },
    {
      "cell_type": "code",
      "metadata": {
        "id": "g2mDvdV6Fk8L"
      },
      "source": [
        ""
      ],
      "execution_count": null,
      "outputs": []
    }
  ]
}